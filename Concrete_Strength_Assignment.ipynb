{
  "nbformat": 4,
  "nbformat_minor": 0,
  "metadata": {
    "colab": {
      "name": "Concrete Strength Assignment.ipynb",
      "provenance": [],
      "collapsed_sections": [],
      "include_colab_link": true
    },
    "kernelspec": {
      "name": "python3",
      "display_name": "Python 3"
    },
    "language_info": {
      "name": "python"
    }
  },
  "cells": [
    {
      "cell_type": "markdown",
      "metadata": {
        "id": "view-in-github",
        "colab_type": "text"
      },
      "source": [
        "<a href=\"https://colab.research.google.com/github/MuhammadSadiq1996/PIAICAssignments/blob/main/Concrete_Strength_Assignment.ipynb\" target=\"_parent\"><img src=\"https://colab.research.google.com/assets/colab-badge.svg\" alt=\"Open In Colab\"/></a>"
      ]
    },
    {
      "cell_type": "markdown",
      "metadata": {
        "id": "PbiddRqdvFPP"
      },
      "source": [
        "\n",
        "# Assignment: Compresive Strength Concrete Problem\n",
        "# Abstract:\n",
        "\n",
        "Concrete is the most important material in civil engineering. The concrete compressive strength (concrete strength to bear the load) is a highly nonlinear function of age and ingredients.\n",
        "\n",
        "\n",
        "**Data Set Characteristics:** \n",
        "\n",
        "Multivariate\n",
        "\n",
        "**Number of Instances:**\n",
        "\n",
        "1030\n",
        "\n",
        "**Area:**\n",
        "\n",
        "Physical\n",
        "\n",
        "**Attribute Characteristics:**\n",
        "\n",
        "Real\n",
        "\n",
        "**Number of Attributes:**\n",
        "\n",
        "9\n",
        "\n",
        "**Date Donated**\n",
        "\n",
        "2007-08-03\n",
        "\n",
        "**Associated Tasks:**\n",
        "\n",
        "Regression\n",
        "\n",
        "**Missing Values?**\n",
        "\n",
        "N/A\n",
        "\n",
        "**Number of Web Hits:**\n",
        "\n",
        "231464\n",
        "\n",
        "**Description:**\n",
        "**Features Name\tData Type\tMeasurement\tDescription**\n",
        "Cement (component 1) | quantitative | kg in a m3 mixture | Input Variable Blast Furnace Slag (component 2) | quantitative | kg in a m3 mixture | Input Variable Fly Ash (component 3) | quantitative | kg in a m3 mixture | Input Variable Water (component 4) | quantitative | kg in a m3 mixture | Input Variable Superplasticizer (component 5) | quantitative | kg in a m3 mixture | Input Variable Coarse Aggregate (component 6) | quantitative | kg in a m3 mixture | Input Variable Fine Aggregate (component 7) | quantitative | kg in a m3 mixture | Input Variable Age | quantitative | Day (1~365) | Input Variable Concrete compressive strength | quantitative | MPa | Output Variable\n",
        "\n",
        "**WORKFLOW :**\n",
        "Load Data\n",
        "Check Missing Values ( If Exist ; Fill each record with mean of its feature )\n",
        "Standardized the Input Variables. Hint: Centeralized the data\n",
        "Split into 50% Training(Samples,Labels) , 30% Test(Samples,Labels) and 20% Validation Data(Samples,Labels).\n",
        "Model : input Layer (No. of features ), 3 hidden layers including 10,8,6 unit & Output Layer with activation function relu/tanh (check by experiment).\n",
        "Compilation Step (Note : Its a Regression problem , select loss , metrics according to it)\n",
        "Train the Model with Epochs (100) and validate it\n",
        "If the model gets overfit tune your model by changing the units , No. of layers , activation function , epochs , add dropout layer or add Regularizer according to the need .\n",
        "Evaluation Step\n",
        "Prediction"
      ]
    },
    {
      "cell_type": "code",
      "metadata": {
        "id": "0cmVyrMYVhT9"
      },
      "source": [
        "import tensorflow as tf\n",
        "import numpy as np\n",
        "import pandas as pd\n",
        "from tensorflow.keras import models, layers , optimizers"
      ],
      "execution_count": 2,
      "outputs": []
    },
    {
      "cell_type": "code",
      "metadata": {
        "colab": {
          "base_uri": "https://localhost:8080/"
        },
        "id": "X7k28SRdXM4R",
        "outputId": "9758d927-ea01-474f-85ed-b1c98f8d8210"
      },
      "source": [
        "from google.colab import drive\n",
        "drive.mount(\"/content/gdrive\")"
      ],
      "execution_count": 1,
      "outputs": [
        {
          "output_type": "stream",
          "text": [
            "Mounted at /content/gdrive\n"
          ],
          "name": "stdout"
        }
      ]
    },
    {
      "cell_type": "code",
      "metadata": {
        "id": "hqtzW5ExXTNl"
      },
      "source": [
        "df= pd.read_csv(\"/content/gdrive/MyDrive/DL PIAIC/compresive_strength_concrete.csv\")"
      ],
      "execution_count": 3,
      "outputs": []
    },
    {
      "cell_type": "code",
      "metadata": {
        "colab": {
          "base_uri": "https://localhost:8080/",
          "height": 279
        },
        "id": "lv3gi3DYXqQD",
        "outputId": "acb21672-58dd-467a-e59e-ffdd540c8c77"
      },
      "source": [
        "df.head()"
      ],
      "execution_count": 4,
      "outputs": [
        {
          "output_type": "execute_result",
          "data": {
            "text/html": [
              "<div>\n",
              "<style scoped>\n",
              "    .dataframe tbody tr th:only-of-type {\n",
              "        vertical-align: middle;\n",
              "    }\n",
              "\n",
              "    .dataframe tbody tr th {\n",
              "        vertical-align: top;\n",
              "    }\n",
              "\n",
              "    .dataframe thead th {\n",
              "        text-align: right;\n",
              "    }\n",
              "</style>\n",
              "<table border=\"1\" class=\"dataframe\">\n",
              "  <thead>\n",
              "    <tr style=\"text-align: right;\">\n",
              "      <th></th>\n",
              "      <th>Cement (component 1)(kg in a m^3 mixture)</th>\n",
              "      <th>Blast Furnace Slag (component 2)(kg in a m^3 mixture)</th>\n",
              "      <th>Fly Ash (component 3)(kg in a m^3 mixture)</th>\n",
              "      <th>Water  (component 4)(kg in a m^3 mixture)</th>\n",
              "      <th>Superplasticizer (component 5)(kg in a m^3 mixture)</th>\n",
              "      <th>Coarse Aggregate  (component 6)(kg in a m^3 mixture)</th>\n",
              "      <th>Fine Aggregate (component 7)(kg in a m^3 mixture)</th>\n",
              "      <th>Age (day)</th>\n",
              "      <th>Concrete compressive strength(MPa, megapascals)</th>\n",
              "    </tr>\n",
              "  </thead>\n",
              "  <tbody>\n",
              "    <tr>\n",
              "      <th>0</th>\n",
              "      <td>540.0</td>\n",
              "      <td>0.0</td>\n",
              "      <td>0.0</td>\n",
              "      <td>162.0</td>\n",
              "      <td>2.5</td>\n",
              "      <td>1040.0</td>\n",
              "      <td>676.0</td>\n",
              "      <td>28</td>\n",
              "      <td>79.99</td>\n",
              "    </tr>\n",
              "    <tr>\n",
              "      <th>1</th>\n",
              "      <td>540.0</td>\n",
              "      <td>0.0</td>\n",
              "      <td>0.0</td>\n",
              "      <td>162.0</td>\n",
              "      <td>2.5</td>\n",
              "      <td>1055.0</td>\n",
              "      <td>676.0</td>\n",
              "      <td>28</td>\n",
              "      <td>61.89</td>\n",
              "    </tr>\n",
              "    <tr>\n",
              "      <th>2</th>\n",
              "      <td>332.5</td>\n",
              "      <td>142.5</td>\n",
              "      <td>0.0</td>\n",
              "      <td>228.0</td>\n",
              "      <td>0.0</td>\n",
              "      <td>932.0</td>\n",
              "      <td>594.0</td>\n",
              "      <td>270</td>\n",
              "      <td>40.27</td>\n",
              "    </tr>\n",
              "    <tr>\n",
              "      <th>3</th>\n",
              "      <td>332.5</td>\n",
              "      <td>142.5</td>\n",
              "      <td>0.0</td>\n",
              "      <td>228.0</td>\n",
              "      <td>0.0</td>\n",
              "      <td>932.0</td>\n",
              "      <td>594.0</td>\n",
              "      <td>365</td>\n",
              "      <td>41.05</td>\n",
              "    </tr>\n",
              "    <tr>\n",
              "      <th>4</th>\n",
              "      <td>198.6</td>\n",
              "      <td>132.4</td>\n",
              "      <td>0.0</td>\n",
              "      <td>192.0</td>\n",
              "      <td>0.0</td>\n",
              "      <td>978.4</td>\n",
              "      <td>825.5</td>\n",
              "      <td>360</td>\n",
              "      <td>44.30</td>\n",
              "    </tr>\n",
              "  </tbody>\n",
              "</table>\n",
              "</div>"
            ],
            "text/plain": [
              "   Cement (component 1)(kg in a m^3 mixture)  ...  Concrete compressive strength(MPa, megapascals) \n",
              "0                                      540.0  ...                                             79.99\n",
              "1                                      540.0  ...                                             61.89\n",
              "2                                      332.5  ...                                             40.27\n",
              "3                                      332.5  ...                                             41.05\n",
              "4                                      198.6  ...                                             44.30\n",
              "\n",
              "[5 rows x 9 columns]"
            ]
          },
          "metadata": {
            "tags": []
          },
          "execution_count": 4
        }
      ]
    },
    {
      "cell_type": "code",
      "metadata": {
        "colab": {
          "base_uri": "https://localhost:8080/"
        },
        "id": "B2pFw_p5Xsp9",
        "outputId": "fa06c1bb-7e2e-42b8-e94d-83473ccf9b3c"
      },
      "source": [
        "df.isnull().sum()"
      ],
      "execution_count": 5,
      "outputs": [
        {
          "output_type": "execute_result",
          "data": {
            "text/plain": [
              "Cement (component 1)(kg in a m^3 mixture)                0\n",
              "Blast Furnace Slag (component 2)(kg in a m^3 mixture)    0\n",
              "Fly Ash (component 3)(kg in a m^3 mixture)               0\n",
              "Water  (component 4)(kg in a m^3 mixture)                0\n",
              "Superplasticizer (component 5)(kg in a m^3 mixture)      0\n",
              "Coarse Aggregate  (component 6)(kg in a m^3 mixture)     0\n",
              "Fine Aggregate (component 7)(kg in a m^3 mixture)        0\n",
              "Age (day)                                                0\n",
              "Concrete compressive strength(MPa, megapascals)          0\n",
              "dtype: int64"
            ]
          },
          "metadata": {
            "tags": []
          },
          "execution_count": 5
        }
      ]
    },
    {
      "cell_type": "code",
      "metadata": {
        "colab": {
          "base_uri": "https://localhost:8080/",
          "height": 405
        },
        "id": "iqq_zAxxXzRJ",
        "outputId": "af532465-326b-4f81-fe0a-d7a840966328"
      },
      "source": [
        "df.describe()"
      ],
      "execution_count": 6,
      "outputs": [
        {
          "output_type": "execute_result",
          "data": {
            "text/html": [
              "<div>\n",
              "<style scoped>\n",
              "    .dataframe tbody tr th:only-of-type {\n",
              "        vertical-align: middle;\n",
              "    }\n",
              "\n",
              "    .dataframe tbody tr th {\n",
              "        vertical-align: top;\n",
              "    }\n",
              "\n",
              "    .dataframe thead th {\n",
              "        text-align: right;\n",
              "    }\n",
              "</style>\n",
              "<table border=\"1\" class=\"dataframe\">\n",
              "  <thead>\n",
              "    <tr style=\"text-align: right;\">\n",
              "      <th></th>\n",
              "      <th>Cement (component 1)(kg in a m^3 mixture)</th>\n",
              "      <th>Blast Furnace Slag (component 2)(kg in a m^3 mixture)</th>\n",
              "      <th>Fly Ash (component 3)(kg in a m^3 mixture)</th>\n",
              "      <th>Water  (component 4)(kg in a m^3 mixture)</th>\n",
              "      <th>Superplasticizer (component 5)(kg in a m^3 mixture)</th>\n",
              "      <th>Coarse Aggregate  (component 6)(kg in a m^3 mixture)</th>\n",
              "      <th>Fine Aggregate (component 7)(kg in a m^3 mixture)</th>\n",
              "      <th>Age (day)</th>\n",
              "      <th>Concrete compressive strength(MPa, megapascals)</th>\n",
              "    </tr>\n",
              "  </thead>\n",
              "  <tbody>\n",
              "    <tr>\n",
              "      <th>count</th>\n",
              "      <td>1030.000000</td>\n",
              "      <td>1030.000000</td>\n",
              "      <td>1030.000000</td>\n",
              "      <td>1030.000000</td>\n",
              "      <td>1030.000000</td>\n",
              "      <td>1030.000000</td>\n",
              "      <td>1030.000000</td>\n",
              "      <td>1030.000000</td>\n",
              "      <td>1030.000000</td>\n",
              "    </tr>\n",
              "    <tr>\n",
              "      <th>mean</th>\n",
              "      <td>281.167864</td>\n",
              "      <td>73.895825</td>\n",
              "      <td>54.188350</td>\n",
              "      <td>181.567282</td>\n",
              "      <td>6.204660</td>\n",
              "      <td>972.918932</td>\n",
              "      <td>773.580485</td>\n",
              "      <td>45.662136</td>\n",
              "      <td>35.817961</td>\n",
              "    </tr>\n",
              "    <tr>\n",
              "      <th>std</th>\n",
              "      <td>104.506364</td>\n",
              "      <td>86.279342</td>\n",
              "      <td>63.997004</td>\n",
              "      <td>21.354219</td>\n",
              "      <td>5.973841</td>\n",
              "      <td>77.753954</td>\n",
              "      <td>80.175980</td>\n",
              "      <td>63.169912</td>\n",
              "      <td>16.705742</td>\n",
              "    </tr>\n",
              "    <tr>\n",
              "      <th>min</th>\n",
              "      <td>102.000000</td>\n",
              "      <td>0.000000</td>\n",
              "      <td>0.000000</td>\n",
              "      <td>121.800000</td>\n",
              "      <td>0.000000</td>\n",
              "      <td>801.000000</td>\n",
              "      <td>594.000000</td>\n",
              "      <td>1.000000</td>\n",
              "      <td>2.330000</td>\n",
              "    </tr>\n",
              "    <tr>\n",
              "      <th>25%</th>\n",
              "      <td>192.375000</td>\n",
              "      <td>0.000000</td>\n",
              "      <td>0.000000</td>\n",
              "      <td>164.900000</td>\n",
              "      <td>0.000000</td>\n",
              "      <td>932.000000</td>\n",
              "      <td>730.950000</td>\n",
              "      <td>7.000000</td>\n",
              "      <td>23.710000</td>\n",
              "    </tr>\n",
              "    <tr>\n",
              "      <th>50%</th>\n",
              "      <td>272.900000</td>\n",
              "      <td>22.000000</td>\n",
              "      <td>0.000000</td>\n",
              "      <td>185.000000</td>\n",
              "      <td>6.400000</td>\n",
              "      <td>968.000000</td>\n",
              "      <td>779.500000</td>\n",
              "      <td>28.000000</td>\n",
              "      <td>34.445000</td>\n",
              "    </tr>\n",
              "    <tr>\n",
              "      <th>75%</th>\n",
              "      <td>350.000000</td>\n",
              "      <td>142.950000</td>\n",
              "      <td>118.300000</td>\n",
              "      <td>192.000000</td>\n",
              "      <td>10.200000</td>\n",
              "      <td>1029.400000</td>\n",
              "      <td>824.000000</td>\n",
              "      <td>56.000000</td>\n",
              "      <td>46.135000</td>\n",
              "    </tr>\n",
              "    <tr>\n",
              "      <th>max</th>\n",
              "      <td>540.000000</td>\n",
              "      <td>359.400000</td>\n",
              "      <td>200.100000</td>\n",
              "      <td>247.000000</td>\n",
              "      <td>32.200000</td>\n",
              "      <td>1145.000000</td>\n",
              "      <td>992.600000</td>\n",
              "      <td>365.000000</td>\n",
              "      <td>82.600000</td>\n",
              "    </tr>\n",
              "  </tbody>\n",
              "</table>\n",
              "</div>"
            ],
            "text/plain": [
              "       Cement (component 1)(kg in a m^3 mixture)  ...  Concrete compressive strength(MPa, megapascals) \n",
              "count                                1030.000000  ...                                       1030.000000\n",
              "mean                                  281.167864  ...                                         35.817961\n",
              "std                                   104.506364  ...                                         16.705742\n",
              "min                                   102.000000  ...                                          2.330000\n",
              "25%                                   192.375000  ...                                         23.710000\n",
              "50%                                   272.900000  ...                                         34.445000\n",
              "75%                                   350.000000  ...                                         46.135000\n",
              "max                                   540.000000  ...                                         82.600000\n",
              "\n",
              "[8 rows x 9 columns]"
            ]
          },
          "metadata": {
            "tags": []
          },
          "execution_count": 6
        }
      ]
    },
    {
      "cell_type": "code",
      "metadata": {
        "colab": {
          "base_uri": "https://localhost:8080/"
        },
        "id": "XKVNvUUOX9iK",
        "outputId": "fa72d54c-1486-4ca0-e3e9-5d2729375fad"
      },
      "source": [
        "df.info()"
      ],
      "execution_count": 7,
      "outputs": [
        {
          "output_type": "stream",
          "text": [
            "<class 'pandas.core.frame.DataFrame'>\n",
            "RangeIndex: 1030 entries, 0 to 1029\n",
            "Data columns (total 9 columns):\n",
            " #   Column                                                 Non-Null Count  Dtype  \n",
            "---  ------                                                 --------------  -----  \n",
            " 0   Cement (component 1)(kg in a m^3 mixture)              1030 non-null   float64\n",
            " 1   Blast Furnace Slag (component 2)(kg in a m^3 mixture)  1030 non-null   float64\n",
            " 2   Fly Ash (component 3)(kg in a m^3 mixture)             1030 non-null   float64\n",
            " 3   Water  (component 4)(kg in a m^3 mixture)              1030 non-null   float64\n",
            " 4   Superplasticizer (component 5)(kg in a m^3 mixture)    1030 non-null   float64\n",
            " 5   Coarse Aggregate  (component 6)(kg in a m^3 mixture)   1030 non-null   float64\n",
            " 6   Fine Aggregate (component 7)(kg in a m^3 mixture)      1030 non-null   float64\n",
            " 7   Age (day)                                              1030 non-null   int64  \n",
            " 8   Concrete compressive strength(MPa, megapascals)        1030 non-null   float64\n",
            "dtypes: float64(8), int64(1)\n",
            "memory usage: 72.5 KB\n"
          ],
          "name": "stdout"
        }
      ]
    },
    {
      "cell_type": "code",
      "metadata": {
        "colab": {
          "base_uri": "https://localhost:8080/"
        },
        "id": "sebzgkdpYCwE",
        "outputId": "f8999193-968c-4a05-faea-93a7d231e033"
      },
      "source": [
        "df.keys()# to gets columns name"
      ],
      "execution_count": 8,
      "outputs": [
        {
          "output_type": "execute_result",
          "data": {
            "text/plain": [
              "Index(['Cement (component 1)(kg in a m^3 mixture)',\n",
              "       'Blast Furnace Slag (component 2)(kg in a m^3 mixture)',\n",
              "       'Fly Ash (component 3)(kg in a m^3 mixture)',\n",
              "       'Water  (component 4)(kg in a m^3 mixture)',\n",
              "       'Superplasticizer (component 5)(kg in a m^3 mixture)',\n",
              "       'Coarse Aggregate  (component 6)(kg in a m^3 mixture)',\n",
              "       'Fine Aggregate (component 7)(kg in a m^3 mixture)', 'Age (day)',\n",
              "       'Concrete compressive strength(MPa, megapascals) '],\n",
              "      dtype='object')"
            ]
          },
          "metadata": {
            "tags": []
          },
          "execution_count": 8
        }
      ]
    },
    {
      "cell_type": "code",
      "metadata": {
        "id": "K4fQ7c8iYFf8"
      },
      "source": [
        "# split dataframe into input and output\n",
        "data=df.iloc[:,:8]\n",
        "\n",
        "targets=df.iloc[:,-1]"
      ],
      "execution_count": 9,
      "outputs": []
    },
    {
      "cell_type": "code",
      "metadata": {
        "colab": {
          "base_uri": "https://localhost:8080/",
          "height": 968
        },
        "id": "LFD4EInNYJmq",
        "outputId": "a1b633f9-372b-4120-ddb4-b2e67a2ce6ee"
      },
      "source": [
        "%matplotlib inline\n",
        "import matplotlib.pyplot as plt\n",
        "plt.style.use('ggplot')\n",
        "pd.DataFrame.hist(data, figsize = [30,30], color=\"Blue\")\n",
        "plt.show()"
      ],
      "execution_count": 10,
      "outputs": [
        {
          "output_type": "display_data",
          "data": {
            "image/png": "[encoded data removed]",
            "text/plain": [
              "<Figure size 2160x2160 with 9 Axes>"
            ]
          },
          "metadata": {
            "tags": []
          }
        }
      ]
    },
    {
      "cell_type": "code",
      "metadata": {
        "colab": {
          "base_uri": "https://localhost:8080/",
          "height": 445
        },
        "id": "2etOfrKJYMct",
        "outputId": "3dc01793-3bd5-43ca-d836-c84d7d004257"
      },
      "source": [
        "plt.style.use('ggplot')\n",
        "targets.hist( figsize = [7,7], color=\"Green\")\n",
        "plt.title(\"Actual Targets\")\n",
        "plt.show()"
      ],
      "execution_count": 11,
      "outputs": [
        {
          "output_type": "display_data",
          "data": {
            "image/png": "[encoded data removed]",
            "text/plain": [
              "<Figure size 504x504 with 1 Axes>"
            ]
          },
          "metadata": {
            "tags": []
          }
        }
      ]
    },
    {
      "cell_type": "code",
      "metadata": {
        "id": "19dMBm-BYeKf"
      },
      "source": [
        "# standardized or normalized the data (input variables)\n",
        "mean = data.mean(axis=0)\n",
        "data-= mean\n",
        "std = data.std(axis=0)\n",
        "data/= std"
      ],
      "execution_count": 23,
      "outputs": []
    },
    {
      "cell_type": "code",
      "metadata": {
        "id": "oexYWBY6YevT"
      },
      "source": [
        "# data spliting using machine learning spliting method\n",
        "from sklearn.model_selection import train_test_split\n",
        "X_train,X_test,y_train,y_test=train_test_split(data,targets,random_state=0)"
      ],
      "execution_count": 24,
      "outputs": []
    },
    {
      "cell_type": "code",
      "metadata": {
        "colab": {
          "base_uri": "https://localhost:8080/"
        },
        "id": "k4fNE92NYhtx",
        "outputId": "479d2931-20a6-48da-f2cb-3f724a6e2c6a"
      },
      "source": [
        "print(f\"Shape of training data :{X_train.shape},\\nShape of training targets:{y_train.shape}\")"
      ],
      "execution_count": 25,
      "outputs": [
        {
          "output_type": "stream",
          "text": [
            "Shape of training data :(772, 8),\n",
            "Shape of training targets:(772,)\n"
          ],
          "name": "stdout"
        }
      ]
    },
    {
      "cell_type": "code",
      "metadata": {
        "colab": {
          "base_uri": "https://localhost:8080/"
        },
        "id": "8GNYRRCWYkp2",
        "outputId": "2d5c35fb-7af5-436d-a432-8d29ad6b0e7d"
      },
      "source": [
        "print(f\"Shape of testing data :{X_test.shape},\\nShape of testing targets:{y_test.shape}\")"
      ],
      "execution_count": 26,
      "outputs": [
        {
          "output_type": "stream",
          "text": [
            "Shape of testing data :(258, 8),\n",
            "Shape of testing targets:(258,)\n"
          ],
          "name": "stdout"
        }
      ]
    },
    {
      "cell_type": "code",
      "metadata": {
        "id": "eCFHlBC9YnF6"
      },
      "source": [
        "X_train= np.asarray(X_train).astype('float32')\n",
        "X_test= np.asarray(X_test).astype('float32')"
      ],
      "execution_count": 27,
      "outputs": []
    },
    {
      "cell_type": "code",
      "metadata": {
        "id": "yMc7Rx5cYprw"
      },
      "source": [
        "val_X = X_train[:230]\n",
        "partial_X_train=X_train[230:]\n",
        "val_y=y_train[:230]\n",
        "partial_y_train=y_train[230:]"
      ],
      "execution_count": 29,
      "outputs": []
    },
    {
      "cell_type": "code",
      "metadata": {
        "id": "X9szwyPUYtmX"
      },
      "source": [
        "from keras import models, layers , optimizers"
      ],
      "execution_count": 16,
      "outputs": []
    },
    {
      "cell_type": "code",
      "metadata": {
        "id": "NOFcKDd1Yv4P"
      },
      "source": [
        "network=models.Sequential()\n",
        "network.add(tf.keras.layers.Dense(10,activation=\"relu\",input_shape=(X_train.shape[1],)))\n",
        "network.add(tf.keras.layers.Dense(8,activation=\"relu\"))\n",
        "network.add(tf.keras.layers.Dense(1))"
      ],
      "execution_count": 30,
      "outputs": []
    },
    {
      "cell_type": "code",
      "metadata": {
        "colab": {
          "base_uri": "https://localhost:8080/"
        },
        "id": "r8bR7v9zYyOp",
        "outputId": "de21269a-e998-4436-ed5b-92f8b9f7fd66"
      },
      "source": [
        "network.summary()"
      ],
      "execution_count": 31,
      "outputs": [
        {
          "output_type": "stream",
          "text": [
            "Model: \"sequential_1\"\n",
            "_________________________________________________________________\n",
            "Layer (type)                 Output Shape              Param #   \n",
            "=================================================================\n",
            "dense_3 (Dense)              (None, 10)                90        \n",
            "_________________________________________________________________\n",
            "dense_4 (Dense)              (None, 8)                 88        \n",
            "_________________________________________________________________\n",
            "dense_5 (Dense)              (None, 1)                 9         \n",
            "=================================================================\n",
            "Total params: 187\n",
            "Trainable params: 187\n",
            "Non-trainable params: 0\n",
            "_________________________________________________________________\n"
          ],
          "name": "stdout"
        }
      ]
    },
    {
      "cell_type": "code",
      "metadata": {
        "id": "e9nJbYuaY0v-"
      },
      "source": [
        "network.compile(optimizer=optimizers.RMSprop(lr=0.001), loss=\"mse\",metrics=['mae'])"
      ],
      "execution_count": 32,
      "outputs": []
    },
    {
      "cell_type": "code",
      "metadata": {
        "colab": {
          "base_uri": "https://localhost:8080/"
        },
        "id": "uTpMB5F6Y5gg",
        "outputId": "d18c9be0-94a7-498a-d32c-d6d7c88bbb8e"
      },
      "source": [
        "history=network.fit(partial_X_train,partial_y_train,epochs=10,validation_data=(val_X,val_y),batch_size=1,verbose=1)"
      ],
      "execution_count": 33,
      "outputs": [
        {
          "output_type": "stream",
          "text": [
            "Epoch 1/10\n",
            "542/542 [==============================] - 2s 2ms/step - loss: 1595.8019 - mae: 35.5748 - val_loss: 1126.5902 - val_mae: 29.3655\n",
            "Epoch 2/10\n",
            "542/542 [==============================] - 1s 1ms/step - loss: 883.3345 - mae: 24.9539 - val_loss: 389.3777 - val_mae: 15.4837\n",
            "Epoch 3/10\n",
            "542/542 [==============================] - 1s 1ms/step - loss: 269.9077 - mae: 12.8100 - val_loss: 239.5419 - val_mae: 12.4879\n",
            "Epoch 4/10\n",
            "542/542 [==============================] - 1s 1ms/step - loss: 185.3388 - mae: 11.0295 - val_loss: 211.5071 - val_mae: 11.6627\n",
            "Epoch 5/10\n",
            "542/542 [==============================] - 1s 1ms/step - loss: 164.6306 - mae: 10.1973 - val_loss: 192.2459 - val_mae: 11.0485\n",
            "Epoch 6/10\n",
            "542/542 [==============================] - 1s 1ms/step - loss: 172.1263 - mae: 10.4536 - val_loss: 177.1160 - val_mae: 10.5494\n",
            "Epoch 7/10\n",
            "542/542 [==============================] - 1s 1ms/step - loss: 159.5647 - mae: 9.8816 - val_loss: 166.7413 - val_mae: 10.2671\n",
            "Epoch 8/10\n",
            "542/542 [==============================] - 1s 1ms/step - loss: 160.3358 - mae: 9.9998 - val_loss: 159.1976 - val_mae: 9.8829\n",
            "Epoch 9/10\n",
            "542/542 [==============================] - 1s 1ms/step - loss: 152.5166 - mae: 9.5994 - val_loss: 152.9583 - val_mae: 9.7297\n",
            "Epoch 10/10\n",
            "542/542 [==============================] - 1s 1ms/step - loss: 139.9825 - mae: 9.2537 - val_loss: 149.6636 - val_mae: 9.6633\n"
          ],
          "name": "stdout"
        }
      ]
    },
    {
      "cell_type": "code",
      "metadata": {
        "colab": {
          "base_uri": "https://localhost:8080/",
          "height": 299
        },
        "id": "IKUPegFcY8Dr",
        "outputId": "516e4d30-2a6e-44b5-ae4d-2e9862cb7e5e"
      },
      "source": [
        "loss = history.history['loss']\n",
        "val_loss = history.history['val_loss']\n",
        "epochs = range(1, len(loss) + 1)\n",
        "plt.plot(epochs, loss, 'bo', label='Training loss')\n",
        "plt.plot(epochs, val_loss, 'b', label='Validation loss')\n",
        "plt.title('Training and validation loss')\n",
        "plt.xlabel('Epochs')\n",
        "plt.ylabel('Loss')\n",
        "plt.legend()\n",
        "plt.show()"
      ],
      "execution_count": 34,
      "outputs": [
        {
          "output_type": "display_data",
          "data": {
            "image/png": "[encoded data removed]",
            "text/plain": [
              "<Figure size 432x288 with 1 Axes>"
            ]
          },
          "metadata": {
            "tags": []
          }
        }
      ]
    },
    {
      "cell_type": "code",
      "metadata": {
        "colab": {
          "base_uri": "https://localhost:8080/"
        },
        "id": "q7TMYe0uZCUW",
        "outputId": "cd086a83-3f98-4377-bf8b-83fe8708993f"
      },
      "source": [
        "all_mae_histories=[]\n",
        "mae_history = history.history['val_mae']\n",
        "all_mae_histories.append(mae_history)\n",
        "print(all_mae_histories)"
      ],
      "execution_count": 35,
      "outputs": [
        {
          "output_type": "stream",
          "text": [
            "[[29.36551856994629, 15.483671188354492, 12.487884521484375, 11.662674903869629, 11.048521041870117, 10.549383163452148, 10.267111778259277, 9.882917404174805, 9.729734420776367, 9.6632719039917]]\n"
          ],
          "name": "stdout"
        }
      ]
    },
    {
      "cell_type": "code",
      "metadata": {
        "colab": {
          "base_uri": "https://localhost:8080/"
        },
        "id": "CTf0IJwuZHZW",
        "outputId": "0f74b797-8b32-43b7-b010-e823d8b0ca91"
      },
      "source": [
        "average_mae_history = [np.mean([x[i] for x in all_mae_histories]) for i in range(2)]\n",
        "print(average_mae_history)"
      ],
      "execution_count": 36,
      "outputs": [
        {
          "output_type": "stream",
          "text": [
            "[29.36551856994629, 15.483671188354492]\n"
          ],
          "name": "stdout"
        }
      ]
    },
    {
      "cell_type": "code",
      "metadata": {
        "colab": {
          "base_uri": "https://localhost:8080/",
          "height": 299
        },
        "id": "-ZTvE79mZLTY",
        "outputId": "47c2df91-4981-4e8e-c804-9313381669b8"
      },
      "source": [
        "plt.plot(range(1, len(average_mae_history) + 1), average_mae_history)\n",
        "plt.title('Validation MAE by Epochs')\n",
        "plt.xlabel('Epochs')\n",
        "plt.ylabel('Validation MAE')\n",
        "plt.grid()\n",
        "plt.show()"
      ],
      "execution_count": 37,
      "outputs": [
        {
          "output_type": "display_data",
          "data": {
            "image/png": "[encoded data removed]",
            "text/plain": [
              "<Figure size 432x288 with 1 Axes>"
            ]
          },
          "metadata": {
            "tags": []
          }
        }
      ]
    },
    {
      "cell_type": "code",
      "metadata": {
        "colab": {
          "base_uri": "https://localhost:8080/"
        },
        "id": "yolj_uYTZOTu",
        "outputId": "e926fd70-7eb7-40b0-e3e1-171d8be92cf8"
      },
      "source": [
        "test_mse_score, test_mae_score = network.evaluate(X_test, y_test)"
      ],
      "execution_count": 38,
      "outputs": [
        {
          "output_type": "stream",
          "text": [
            "9/9 [==============================] - 0s 3ms/step - loss: 127.7986 - mae: 8.9949\n"
          ],
          "name": "stdout"
        }
      ]
    },
    {
      "cell_type": "code",
      "metadata": {
        "colab": {
          "base_uri": "https://localhost:8080/"
        },
        "id": "x-V9etKUZRvv",
        "outputId": "2908f54c-d551-4bef-b758-a00c5f940487"
      },
      "source": [
        "test_mae_score"
      ],
      "execution_count": null,
      "outputs": [
        {
          "output_type": "execute_result",
          "data": {
            "text/plain": [
              "9.185037612915039"
            ]
          },
          "metadata": {
            "tags": []
          },
          "execution_count": 29
        }
      ]
    },
    {
      "cell_type": "code",
      "metadata": {
        "colab": {
          "base_uri": "https://localhost:8080/"
        },
        "id": "QDRbrLDcZVTu",
        "outputId": "f0f12908-142a-4aac-f627-675c0ad1e2c5"
      },
      "source": [
        "y_pred = network.predict(X_test)\n",
        "y_pred"
      ],
      "execution_count": 39,
      "outputs": [
        {
          "output_type": "execute_result",
          "data": {
            "text/plain": [
              "array([[39.29067 ],\n",
              "       [14.466682],\n",
              "       [60.268047],\n",
              "       [41.73733 ],\n",
              "       [21.052551],\n",
              "       [56.99988 ],\n",
              "       [49.726974],\n",
              "       [27.796223],\n",
              "       [53.982597],\n",
              "       [44.49691 ],\n",
              "       [20.768335],\n",
              "       [42.198475],\n",
              "       [22.807808],\n",
              "       [26.678114],\n",
              "       [48.327007],\n",
              "       [53.69919 ],\n",
              "       [32.56353 ],\n",
              "       [24.591908],\n",
              "       [49.8493  ],\n",
              "       [27.408522],\n",
              "       [45.363262],\n",
              "       [35.699238],\n",
              "       [29.739264],\n",
              "       [49.382595],\n",
              "       [21.921211],\n",
              "       [22.157589],\n",
              "       [85.93276 ],\n",
              "       [26.30022 ],\n",
              "       [53.69919 ],\n",
              "       [48.787033],\n",
              "       [19.374321],\n",
              "       [37.55407 ],\n",
              "       [15.785742],\n",
              "       [26.268318],\n",
              "       [24.87288 ],\n",
              "       [13.55472 ],\n",
              "       [56.425636],\n",
              "       [24.479334],\n",
              "       [24.756046],\n",
              "       [24.109943],\n",
              "       [47.10274 ],\n",
              "       [29.684906],\n",
              "       [26.691711],\n",
              "       [30.984127],\n",
              "       [53.124767],\n",
              "       [52.326294],\n",
              "       [28.244003],\n",
              "       [43.299107],\n",
              "       [36.526775],\n",
              "       [73.45518 ],\n",
              "       [35.384014],\n",
              "       [17.795958],\n",
              "       [27.467556],\n",
              "       [29.247883],\n",
              "       [41.75246 ],\n",
              "       [38.56948 ],\n",
              "       [34.40114 ],\n",
              "       [47.462257],\n",
              "       [59.1844  ],\n",
              "       [36.006176],\n",
              "       [30.189428],\n",
              "       [15.873728],\n",
              "       [41.897663],\n",
              "       [63.683563],\n",
              "       [13.288305],\n",
              "       [45.64979 ],\n",
              "       [28.86945 ],\n",
              "       [34.20161 ],\n",
              "       [25.78251 ],\n",
              "       [21.325369],\n",
              "       [28.72657 ],\n",
              "       [28.456371],\n",
              "       [52.758587],\n",
              "       [16.736881],\n",
              "       [28.302856],\n",
              "       [45.060375],\n",
              "       [21.28039 ],\n",
              "       [15.810563],\n",
              "       [22.741314],\n",
              "       [24.033485],\n",
              "       [24.969742],\n",
              "       [44.073563],\n",
              "       [30.863623],\n",
              "       [27.176838],\n",
              "       [31.947552],\n",
              "       [32.81002 ],\n",
              "       [39.681583],\n",
              "       [40.53477 ],\n",
              "       [37.831627],\n",
              "       [32.13342 ],\n",
              "       [47.241238],\n",
              "       [15.462738],\n",
              "       [26.268482],\n",
              "       [34.83881 ],\n",
              "       [33.725044],\n",
              "       [65.23379 ],\n",
              "       [27.499683],\n",
              "       [30.302603],\n",
              "       [43.606987],\n",
              "       [25.626198],\n",
              "       [20.745314],\n",
              "       [35.755558],\n",
              "       [21.839287],\n",
              "       [30.77086 ],\n",
              "       [33.14369 ],\n",
              "       [33.121147],\n",
              "       [34.77812 ],\n",
              "       [31.36626 ],\n",
              "       [26.059273],\n",
              "       [36.240253],\n",
              "       [16.361315],\n",
              "       [56.065266],\n",
              "       [22.128206],\n",
              "       [26.75652 ],\n",
              "       [41.700924],\n",
              "       [63.89774 ],\n",
              "       [30.466793],\n",
              "       [40.59496 ],\n",
              "       [41.375843],\n",
              "       [25.223362],\n",
              "       [42.199257],\n",
              "       [23.068771],\n",
              "       [63.709057],\n",
              "       [18.829681],\n",
              "       [24.838877],\n",
              "       [15.626898],\n",
              "       [18.815512],\n",
              "       [18.87017 ],\n",
              "       [36.18606 ],\n",
              "       [27.386396],\n",
              "       [27.46668 ],\n",
              "       [58.764553],\n",
              "       [25.15387 ],\n",
              "       [29.397446],\n",
              "       [18.101524],\n",
              "       [47.983387],\n",
              "       [74.51793 ],\n",
              "       [31.87321 ],\n",
              "       [16.832869],\n",
              "       [16.760191],\n",
              "       [38.659863],\n",
              "       [58.519318],\n",
              "       [24.42219 ],\n",
              "       [23.498768],\n",
              "       [18.94117 ],\n",
              "       [37.737373],\n",
              "       [37.127125],\n",
              "       [17.783295],\n",
              "       [25.129684],\n",
              "       [20.540318],\n",
              "       [17.176239],\n",
              "       [39.298252],\n",
              "       [18.824905],\n",
              "       [24.360624],\n",
              "       [26.983566],\n",
              "       [26.587997],\n",
              "       [42.17734 ],\n",
              "       [29.008171],\n",
              "       [27.595022],\n",
              "       [17.343534],\n",
              "       [36.671326],\n",
              "       [33.925873],\n",
              "       [33.638874],\n",
              "       [24.380201],\n",
              "       [36.87558 ],\n",
              "       [11.521439],\n",
              "       [73.01832 ],\n",
              "       [48.878292],\n",
              "       [73.673615],\n",
              "       [10.994912],\n",
              "       [30.736881],\n",
              "       [29.156265],\n",
              "       [19.579685],\n",
              "       [72.67769 ],\n",
              "       [21.8506  ],\n",
              "       [16.592527],\n",
              "       [27.294312],\n",
              "       [42.69515 ],\n",
              "       [23.118912],\n",
              "       [39.986786],\n",
              "       [28.52238 ],\n",
              "       [30.488544],\n",
              "       [20.124168],\n",
              "       [37.923378],\n",
              "       [28.783527],\n",
              "       [35.006046],\n",
              "       [42.476162],\n",
              "       [36.492947],\n",
              "       [25.782751],\n",
              "       [41.897667],\n",
              "       [19.72219 ],\n",
              "       [88.97855 ],\n",
              "       [44.24879 ],\n",
              "       [26.76745 ],\n",
              "       [17.146921],\n",
              "       [26.937073],\n",
              "       [30.10535 ],\n",
              "       [29.057053],\n",
              "       [25.063793],\n",
              "       [53.71535 ],\n",
              "       [16.428608],\n",
              "       [19.73204 ],\n",
              "       [49.287827],\n",
              "       [27.655893],\n",
              "       [28.948944],\n",
              "       [15.278751],\n",
              "       [38.73425 ],\n",
              "       [28.193007],\n",
              "       [30.82108 ],\n",
              "       [17.567503],\n",
              "       [49.41257 ],\n",
              "       [18.093847],\n",
              "       [18.50373 ],\n",
              "       [20.540216],\n",
              "       [32.15975 ],\n",
              "       [26.32833 ],\n",
              "       [17.990448],\n",
              "       [39.057976],\n",
              "       [18.284418],\n",
              "       [37.605812],\n",
              "       [55.215244],\n",
              "       [28.17152 ],\n",
              "       [37.92053 ],\n",
              "       [36.09799 ],\n",
              "       [49.46066 ],\n",
              "       [33.7933  ],\n",
              "       [24.753187],\n",
              "       [28.561632],\n",
              "       [31.29628 ],\n",
              "       [44.578884],\n",
              "       [37.11872 ],\n",
              "       [39.0638  ],\n",
              "       [65.98902 ],\n",
              "       [20.271608],\n",
              "       [41.59535 ],\n",
              "       [28.20978 ],\n",
              "       [30.060825],\n",
              "       [37.88107 ],\n",
              "       [24.030678],\n",
              "       [58.26109 ],\n",
              "       [64.0536  ],\n",
              "       [34.563972],\n",
              "       [41.632412],\n",
              "       [29.946672],\n",
              "       [22.578304],\n",
              "       [22.33226 ],\n",
              "       [40.125835],\n",
              "       [21.076672],\n",
              "       [33.25471 ],\n",
              "       [13.874767],\n",
              "       [11.569046],\n",
              "       [38.40716 ],\n",
              "       [42.693783],\n",
              "       [32.34517 ],\n",
              "       [37.4264  ],\n",
              "       [20.577652],\n",
              "       [27.244293],\n",
              "       [14.801763]], dtype=float32)"
            ]
          },
          "metadata": {
            "tags": []
          },
          "execution_count": 39
        }
      ]
    },
    {
      "cell_type": "code",
      "metadata": {
        "colab": {
          "base_uri": "https://localhost:8080/"
        },
        "id": "TrsQA1MiZXm6",
        "outputId": "1ce2141a-2d07-4749-b104-1f8777c82626"
      },
      "source": [
        "y_test"
      ],
      "execution_count": 40,
      "outputs": [
        {
          "output_type": "execute_result",
          "data": {
            "text/plain": [
              "747    26.06\n",
              "718    10.35\n",
              "175    79.30\n",
              "828    74.99\n",
              "713     9.69\n",
              "       ...  \n",
              "453    31.72\n",
              "906    39.42\n",
              "757    18.13\n",
              "875    18.28\n",
              "62      9.87\n",
              "Name: Concrete compressive strength(MPa, megapascals) , Length: 258, dtype: float64"
            ]
          },
          "metadata": {
            "tags": []
          },
          "execution_count": 40
        }
      ]
    },
    {
      "cell_type": "code",
      "metadata": {
        "colab": {
          "base_uri": "https://localhost:8080/",
          "height": 282
        },
        "id": "47iGJcf5ZeUK",
        "outputId": "e92fa8d4-61d1-4621-d4fb-e6394684eb82"
      },
      "source": [
        "plt.figure(figsize=(20,5))\n",
        "plt.subplot(1, 2, 1 )\n",
        "plt.hist(targets)\n",
        "plt.xlabel('original target value')\n",
        "plt.ylabel('count')\n",
        "plt.subplot(1, 2, 2)\n",
        "plt.hist(y_pred)\n",
        "plt.xlabel('aggregated target value')\n",
        "plt.show()"
      ],
      "execution_count": 41,
      "outputs": [
        {
          "output_type": "display_data",
          "data": {
            "image/png": "[encoded data removed]",
            "text/plain": [
              "<Figure size 1440x360 with 2 Axes>"
            ]
          },
          "metadata": {
            "tags": []
          }
        }
      ]
    },
    {
      "cell_type": "code",
      "metadata": {
        "id": "nYaCXD5bZjdf"
      },
      "source": [
        ""
      ],
      "execution_count": null,
      "outputs": []
    }
  ]
}